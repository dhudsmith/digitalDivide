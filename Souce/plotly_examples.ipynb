{
 "cells": [
  {
   "cell_type": "code",
   "execution_count": 40,
   "metadata": {},
   "outputs": [],
   "source": [
    "from palettable.colorbrewer import qualitative as colors\n",
    "import plotly.plotly as py\n",
    "import plotly.graph_objs as go\n",
    "import pandas as pd\n",
    "import numpy as np\n",
    "import colorlover as cl"
   ]
  },
  {
   "cell_type": "markdown",
   "metadata": {},
   "source": [
    "### Loading the data"
   ]
  },
  {
   "cell_type": "code",
   "execution_count": 58,
   "metadata": {},
   "outputs": [],
   "source": [
    "path = '/home/hudson/Code/DigitalDivide/Data/plotly_example_data/2018-10-07_fb_posts_tsne_3d.json'\n",
    "df = pd.read_json(path)"
   ]
  },
  {
   "cell_type": "code",
   "execution_count": 59,
   "metadata": {},
   "outputs": [
    {
     "data": {
      "text/html": [
       "<div>\n",
       "<style scoped>\n",
       "    .dataframe tbody tr th:only-of-type {\n",
       "        vertical-align: middle;\n",
       "    }\n",
       "\n",
       "    .dataframe tbody tr th {\n",
       "        vertical-align: top;\n",
       "    }\n",
       "\n",
       "    .dataframe thead th {\n",
       "        text-align: right;\n",
       "    }\n",
       "</style>\n",
       "<table border=\"1\" class=\"dataframe\">\n",
       "  <thead>\n",
       "    <tr style=\"text-align: right;\">\n",
       "      <th></th>\n",
       "      <th>color</th>\n",
       "      <th>cx</th>\n",
       "      <th>cy</th>\n",
       "      <th>cz</th>\n",
       "      <th>id</th>\n",
       "      <th>sport</th>\n",
       "      <th>text</th>\n",
       "      <th>topic_code</th>\n",
       "      <th>watson_emotion_anger</th>\n",
       "      <th>watson_emotion_disgust</th>\n",
       "      <th>watson_emotion_fear</th>\n",
       "      <th>watson_emotion_joy</th>\n",
       "      <th>watson_emotion_sadness</th>\n",
       "      <th>watson_sentiment</th>\n",
       "    </tr>\n",
       "  </thead>\n",
       "  <tbody>\n",
       "    <tr>\n",
       "      <th>0</th>\n",
       "      <td>rgb(166, 216, 84)</td>\n",
       "      <td>-1.139620</td>\n",
       "      <td>0.603608</td>\n",
       "      <td>-0.547708</td>\n",
       "      <td>0005ba50ee9e170292fcd07a3a0ff3c9</td>\n",
       "      <td>Clemson Football</td>\n",
       "      <td>Don’t count Cuse out of this one.\\nGood luck @...</td>\n",
       "      <td>24</td>\n",
       "      <td>0.072341</td>\n",
       "      <td>0.022363</td>\n",
       "      <td>0.068215</td>\n",
       "      <td>0.750325</td>\n",
       "      <td>0.092511</td>\n",
       "      <td>0.276718</td>\n",
       "    </tr>\n",
       "    <tr>\n",
       "      <th>1</th>\n",
       "      <td>rgb(202, 178, 214)</td>\n",
       "      <td>-0.462484</td>\n",
       "      <td>2.554330</td>\n",
       "      <td>0.556241</td>\n",
       "      <td>0005ba50ee9e170292fcd07a3a463636</td>\n",
       "      <td>Clemson Football</td>\n",
       "      <td>I voted #BryantTooSoft on @TheTylt. Cowards ab...</td>\n",
       "      <td>16</td>\n",
       "      <td>0.406523</td>\n",
       "      <td>0.639686</td>\n",
       "      <td>0.131719</td>\n",
       "      <td>0.012346</td>\n",
       "      <td>0.162564</td>\n",
       "      <td>-0.736670</td>\n",
       "    </tr>\n",
       "    <tr>\n",
       "      <th>2</th>\n",
       "      <td>rgb(166, 216, 84)</td>\n",
       "      <td>-1.506487</td>\n",
       "      <td>1.270640</td>\n",
       "      <td>0.169497</td>\n",
       "      <td>0005ba50ee9e170292fcd07a3a4649e1</td>\n",
       "      <td>Clemson Football</td>\n",
       "      <td>@JeremyWGR Enjoy nothing better then college b...</td>\n",
       "      <td>24</td>\n",
       "      <td>0.235512</td>\n",
       "      <td>0.137109</td>\n",
       "      <td>0.292666</td>\n",
       "      <td>0.139103</td>\n",
       "      <td>0.479796</td>\n",
       "      <td>0.000000</td>\n",
       "    </tr>\n",
       "    <tr>\n",
       "      <th>3</th>\n",
       "      <td>rgb(231, 41, 138)</td>\n",
       "      <td>-1.864593</td>\n",
       "      <td>0.082987</td>\n",
       "      <td>-1.197346</td>\n",
       "      <td>0005ba50ee9e170292fcd07a3a757bd7</td>\n",
       "      <td>Clemson Football</td>\n",
       "      <td>Syracuse football: No. 3 Clemson hosting confi...</td>\n",
       "      <td>3</td>\n",
       "      <td>0.078148</td>\n",
       "      <td>0.104199</td>\n",
       "      <td>0.070591</td>\n",
       "      <td>0.466132</td>\n",
       "      <td>0.142548</td>\n",
       "      <td>0.742468</td>\n",
       "    </tr>\n",
       "    <tr>\n",
       "      <th>4</th>\n",
       "      <td>rgb(202, 178, 214)</td>\n",
       "      <td>-0.492070</td>\n",
       "      <td>2.327752</td>\n",
       "      <td>1.161044</td>\n",
       "      <td>0005ba50ee9e170292fcd07a3aa23b28</td>\n",
       "      <td>Clemson Football</td>\n",
       "      <td>I voted #GoodLuckBryant on @TheTylt. He gave h...</td>\n",
       "      <td>16</td>\n",
       "      <td>0.165404</td>\n",
       "      <td>0.486474</td>\n",
       "      <td>0.005040</td>\n",
       "      <td>0.339785</td>\n",
       "      <td>0.053013</td>\n",
       "      <td>0.754673</td>\n",
       "    </tr>\n",
       "  </tbody>\n",
       "</table>\n",
       "</div>"
      ],
      "text/plain": [
       "                color        cx        cy        cz  \\\n",
       "0   rgb(166, 216, 84) -1.139620  0.603608 -0.547708   \n",
       "1  rgb(202, 178, 214) -0.462484  2.554330  0.556241   \n",
       "2   rgb(166, 216, 84) -1.506487  1.270640  0.169497   \n",
       "3   rgb(231, 41, 138) -1.864593  0.082987 -1.197346   \n",
       "4  rgb(202, 178, 214) -0.492070  2.327752  1.161044   \n",
       "\n",
       "                                 id             sport  \\\n",
       "0  0005ba50ee9e170292fcd07a3a0ff3c9  Clemson Football   \n",
       "1  0005ba50ee9e170292fcd07a3a463636  Clemson Football   \n",
       "2  0005ba50ee9e170292fcd07a3a4649e1  Clemson Football   \n",
       "3  0005ba50ee9e170292fcd07a3a757bd7  Clemson Football   \n",
       "4  0005ba50ee9e170292fcd07a3aa23b28  Clemson Football   \n",
       "\n",
       "                                                text  topic_code  \\\n",
       "0  Don’t count Cuse out of this one.\\nGood luck @...          24   \n",
       "1  I voted #BryantTooSoft on @TheTylt. Cowards ab...          16   \n",
       "2  @JeremyWGR Enjoy nothing better then college b...          24   \n",
       "3  Syracuse football: No. 3 Clemson hosting confi...           3   \n",
       "4  I voted #GoodLuckBryant on @TheTylt. He gave h...          16   \n",
       "\n",
       "   watson_emotion_anger  watson_emotion_disgust  watson_emotion_fear  \\\n",
       "0              0.072341                0.022363             0.068215   \n",
       "1              0.406523                0.639686             0.131719   \n",
       "2              0.235512                0.137109             0.292666   \n",
       "3              0.078148                0.104199             0.070591   \n",
       "4              0.165404                0.486474             0.005040   \n",
       "\n",
       "   watson_emotion_joy  watson_emotion_sadness  watson_sentiment  \n",
       "0            0.750325                0.092511          0.276718  \n",
       "1            0.012346                0.162564         -0.736670  \n",
       "2            0.139103                0.479796          0.000000  \n",
       "3            0.466132                0.142548          0.742468  \n",
       "4            0.339785                0.053013          0.754673  "
      ]
     },
     "execution_count": 59,
     "metadata": {},
     "output_type": "execute_result"
    }
   ],
   "source": [
    "df.head()"
   ]
  },
  {
   "cell_type": "markdown",
   "metadata": {},
   "source": [
    "Note, it may not be necc. to assign the color column. This was necc. given the large number of colors in the above dataset. Also, you may want to \"enhance\" this dataset by separately performing a 2D tsne and a 3D tsne, rather than by taking a 2d projection of the 3d tsne. A 2d-tsne will separate clusters more effectively than a 2d projection of a 3d tsne. You obviously don't need the sport column."
   ]
  },
  {
   "cell_type": "markdown",
   "metadata": {},
   "source": [
    "### Plotting"
   ]
  },
  {
   "cell_type": "markdown",
   "metadata": {},
   "source": [
    "#### Colors -- suprisingly difficult"
   ]
  },
  {
   "cell_type": "markdown",
   "metadata": {},
   "source": [
    "#### 3d plot"
   ]
  },
  {
   "cell_type": "code",
   "execution_count": 69,
   "metadata": {},
   "outputs": [],
   "source": [
    "# function for making 3d plots\n",
    "def plot3dscatter(x, y, z, hover_text, reversescale=False):\n",
    "\n",
    "    # Create the plot\n",
    "    plt = go.Scatter3d(\n",
    "        x=x,\n",
    "        y=y,\n",
    "        z=z,\n",
    "        mode='markers',\n",
    "        marker=dict(\n",
    "            size=3,\n",
    "            reversescale=reversescale,\n",
    "            opacity=0.8\n",
    "        ),\n",
    "        hoverinfo='text',\n",
    "        text=hover_text,\n",
    "        textposition=\"top center\"\n",
    "    )\n",
    "\n",
    "    return plt"
   ]
  },
  {
   "cell_type": "code",
   "execution_count": 73,
   "metadata": {},
   "outputs": [
    {
     "data": {
      "text/html": [
       "<iframe id=\"igraph\" scrolling=\"no\" style=\"border:none;\" seamless=\"seamless\" src=\"https://plot.ly/~hudson/7.embed\" height=\"600px\" width=\"100%\"></iframe>"
      ],
      "text/plain": [
       "<plotly.tools.PlotlyDisplay object>"
      ]
     },
     "execution_count": 73,
     "metadata": {},
     "output_type": "execute_result"
    }
   ],
   "source": [
    "# the graphic opbjects and data to be plotted\n",
    "plt3d = [plot3dscatter(\n",
    "    df[df.topic_code==i].cx, \n",
    "    df[df.topic_code==i].cy, \n",
    "    df[df.topic_code==i].cz, \n",
    "    df[df.topic_code==i].text) for i in df.topic_code.unique()]\n",
    "\n",
    "# the layout for the graph\n",
    "layout3d = go.Layout(\n",
    "            height=600,\n",
    "            margin={'l': 0, 'b': 10, 't': 25, 'r': 10},\n",
    "            hovermode='closest',\n",
    "            scene=dict(\n",
    "                aspectmode='manual',\n",
    "                aspectratio=dict(\n",
    "                    x=1,\n",
    "                    y=1,\n",
    "                    z=1\n",
    "                )\n",
    "            ),\n",
    "        )\n",
    "\n",
    "fig3d = {'data': plt3d, \n",
    "         'layout': layout3d}\n",
    "\n",
    "py.iplot(fig3d, filename=\"example_3d_scatter\")"
   ]
  },
  {
   "cell_type": "markdown",
   "metadata": {},
   "source": [
    "#### 2d plot"
   ]
  },
  {
   "cell_type": "code",
   "execution_count": 75,
   "metadata": {},
   "outputs": [],
   "source": [
    "# function for making 3d plots\n",
    "def plot2dscatter(x, y, hover_text, reversescale=False):\n",
    "\n",
    "    # Create the plot\n",
    "    plt = go.Scatter(\n",
    "        x=x,\n",
    "        y=y,\n",
    "        mode='markers',\n",
    "        marker=dict(\n",
    "            size=5,\n",
    "            reversescale=reversescale,\n",
    "            opacity=0.8\n",
    "        ),\n",
    "        hoverinfo='text',\n",
    "        text=hover_text,\n",
    "        textposition=\"top center\"\n",
    "    )\n",
    "\n",
    "    return plt"
   ]
  },
  {
   "cell_type": "code",
   "execution_count": 76,
   "metadata": {},
   "outputs": [
    {
     "data": {
      "text/html": [
       "<iframe id=\"igraph\" scrolling=\"no\" style=\"border:none;\" seamless=\"seamless\" src=\"https://plot.ly/~hudson/9.embed\" height=\"600px\" width=\"100%\"></iframe>"
      ],
      "text/plain": [
       "<plotly.tools.PlotlyDisplay object>"
      ]
     },
     "execution_count": 76,
     "metadata": {},
     "output_type": "execute_result"
    }
   ],
   "source": [
    "# the graphic opbjects and data to be plotted\n",
    "plt2d = [plot2dscatter(\n",
    "    df[df.topic_code==i].cx, \n",
    "    df[df.topic_code==i].cy, \n",
    "    df[df.topic_code==i].text) for i in df.topic_code.unique()]\n",
    "\n",
    "# the layout for the graph\n",
    "layout2d = go.Layout(\n",
    "            height=600,\n",
    "            margin={'l': 0, 'b': 10, 't': 25, 'r': 10},\n",
    "            hovermode='closest',\n",
    "            scene=dict(\n",
    "                aspectmode='manual',\n",
    "                aspectratio=dict(\n",
    "                    x=1,\n",
    "                    y=1\n",
    "                )\n",
    "            ),\n",
    "        )\n",
    "\n",
    "fig3d = {'data': plt2d, \n",
    "         'layout': layout2d}\n",
    "\n",
    "py.iplot(fig3d, filename=\"example_2d_scatter\")"
   ]
  },
  {
   "cell_type": "code",
   "execution_count": null,
   "metadata": {},
   "outputs": [],
   "source": []
  }
 ],
 "metadata": {
  "kernelspec": {
   "display_name": "Python 3",
   "language": "python",
   "name": "python3"
  },
  "language_info": {
   "codemirror_mode": {
    "name": "ipython",
    "version": 2
   },
   "file_extension": ".py",
   "mimetype": "text/x-python",
   "name": "python",
   "nbconvert_exporter": "python",
   "pygments_lexer": "ipython2",
   "version": "2.7.15rc1"
  }
 },
 "nbformat": 4,
 "nbformat_minor": 2
}
